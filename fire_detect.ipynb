{
 "cells": [
  {
   "attachments": {},
   "cell_type": "markdown",
   "metadata": {},
   "source": [
    "# Détection d'incendie"
   ]
  },
  {
   "cell_type": "code",
   "execution_count": 6,
   "metadata": {},
   "outputs": [],
   "source": [
    "import cv2\n",
    "import numpy as np\n",
    "\n",
    "from IPython.display import display, Image\n",
    "from PIL import Image\n",
    "from ultralytics import YOLO"
   ]
  },
  {
   "attachments": {},
   "cell_type": "markdown",
   "metadata": {},
   "source": [
    "### Check some image size and display them "
   ]
  },
  {
   "cell_type": "code",
   "execution_count": 13,
   "metadata": {},
   "outputs": [
    {
     "name": "stdout",
     "output_type": "stream",
     "text": [
      "Shape of the 'train' image H168, W299\n",
      "Shape of the 'valid' image H183, W276\n"
     ]
    }
   ],
   "source": [
    "## -- Image shape in train set\n",
    "image = cv2.imread('data/train/images/img (54).jpg')\n",
    "height = np.size(image, 0)\n",
    "width = np.size(image, 1)\n",
    "print (f\"Shape of the 'train' image H{height}, W{width}\")\n",
    "\n",
    "## -- Image shape in valid set\n",
    "image = cv2.imread('data/valid/images/img (23).jpg')\n",
    "height = np.size(image, 0)\n",
    "width = np.size(image, 1)\n",
    "print (f\"Shape of the 'valid' image H{height}, W{width}\")"
   ]
  },
  {
   "cell_type": "code",
   "execution_count": 17,
   "metadata": {},
   "outputs": [
    {
     "data": {
      "image/jpeg": "[encoded data removed]",
      "text/plain": [
       "<IPython.core.display.Image object>"
      ]
     },
     "execution_count": 17,
     "metadata": {},
     "output_type": "execute_result"
    }
   ],
   "source": [
    "## -- Display Example of Train image\n",
    "Image(filename='data/train/images/img (38).jpg')"
   ]
  },
  {
   "cell_type": "code",
   "execution_count": 16,
   "metadata": {},
   "outputs": [
    {
     "data": {
      "image/jpeg": "[encoded data removed]",
      "text/plain": [
       "<IPython.core.display.Image object>"
      ]
     },
     "execution_count": 16,
     "metadata": {},
     "output_type": "execute_result"
    }
   ],
   "source": [
    "## -- Display Example of Valid image\n",
    "Image(filename='data/valid/images/img (30).jpg')"
   ]
  },
  {
   "attachments": {},
   "cell_type": "markdown",
   "metadata": {},
   "source": [
    "### Load Model and Train it"
   ]
  },
  {
   "cell_type": "code",
   "execution_count": null,
   "metadata": {},
   "outputs": [],
   "source": [
    "## -- Train with v8\n",
    "model = YOLO(\"yolov8x.pt\")\n",
    "\n",
    "results = model.train(data=\"custom.yaml\", epochs=25, batch=10, imgsz=640)"
   ]
  },
  {
   "cell_type": "code",
   "execution_count": null,
   "metadata": {},
   "outputs": [],
   "source": [
    "## -- Train with v5\n",
    "\n",
    "model = YOLO(\"yolov5x.pt\")\n",
    "\n",
    "results = model.train(data=\"custom.yaml\", epochs=25, batch=10, imgsz=640)"
   ]
  },
  {
   "cell_type": "code",
   "execution_count": null,
   "metadata": {},
   "outputs": [],
   "source": [
    "results_val = model.val()"
   ]
  },
  {
   "attachments": {},
   "cell_type": "markdown",
   "metadata": {},
   "source": [
    "### Metrics"
   ]
  },
  {
   "cell_type": "code",
   "execution_count": null,
   "metadata": {},
   "outputs": [],
   "source": [
    "x = Image(filename='runs/detect/train/F1_curve.png') \n",
    "y = Image(filename='runs/detect/train/PR_curve.png') \n",
    "z = Image(filename='runs/detect/train/confusion_matrix.png') \n",
    "display(x, y,z)"
   ]
  },
  {
   "attachments": {},
   "cell_type": "markdown",
   "metadata": {},
   "source": [
    "### Display predictions"
   ]
  },
  {
   "cell_type": "code",
   "execution_count": null,
   "metadata": {},
   "outputs": [],
   "source": [
    "x = Image(filename='runs/detect/train/val_batch0_pred.jpg')\n",
    "display(x)"
   ]
  },
  {
   "attachments": {},
   "cell_type": "markdown",
   "metadata": {},
   "source": [
    "----------------------\n",
    "----------------------"
   ]
  }
 ],
 "metadata": {
  "kernelspec": {
   "display_name": ".env",
   "language": "python",
   "name": "python3"
  },
  "language_info": {
   "codemirror_mode": {
    "name": "ipython",
    "version": 3
   },
   "file_extension": ".py",
   "mimetype": "text/x-python",
   "name": "python",
   "nbconvert_exporter": "python",
   "pygments_lexer": "ipython3",
   "version": "3.10.9"
  },
  "orig_nbformat": 4
 },
 "nbformat": 4,
 "nbformat_minor": 2
}
